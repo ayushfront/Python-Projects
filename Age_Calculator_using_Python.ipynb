{
  "nbformat": 4,
  "nbformat_minor": 0,
  "metadata": {
    "colab": {
      "provenance": []
    },
    "kernelspec": {
      "name": "python3",
      "display_name": "Python 3"
    },
    "language_info": {
      "name": "python"
    }
  },
  "cells": [
    {
      "cell_type": "markdown",
      "source": [
        "# **Age Calculator using Python**"
      ],
      "metadata": {
        "id": "pZfX3ROyyo0U"
      }
    },
    {
      "cell_type": "markdown",
      "source": [
        "Age Calculator is an amazing coding project idea for beginners. If you are new to any programming language, you should try making an age calculator. It is an application where a user enters his date of birth as an input, and the application gives his age as an output. So, if you want to learn how to make an age calculator using the Python programming language, this article is for you. In this article, I will introduce you to a tutorial on how to create an age calculator using Python.**bold text**"
      ],
      "metadata": {
        "id": "9SVQ07_3yr1R"
      }
    },
    {
      "cell_type": "markdown",
      "source": [
        "# **Age Calculator using Python**"
      ],
      "metadata": {
        "id": "b3bg18egyutL"
      }
    },
    {
      "cell_type": "markdown",
      "source": [
        "Age Calculator is an amazing application to create as a beginner in any programming language. To create an age calculator, you need two dates:\n",
        "\n",
        "1. today’s date\n",
        "2. date of birth\n",
        "\n",
        "You can either ask the user for both dates or just ask for the date of birth and use today’s date from the computer itself. Asking for the birthday only seems like a more user-friendly option. So here’s how to create an age calculator using Python:"
      ],
      "metadata": {
        "id": "pyP7HG3KyzTC"
      }
    },
    {
      "cell_type": "code",
      "execution_count": 4,
      "metadata": {
        "colab": {
          "base_uri": "https://localhost:8080/"
        },
        "id": "SSuPyoAdx-6I",
        "outputId": "ce510996-031c-42e3-86f4-e8bc10d36c3d"
      },
      "outputs": [
        {
          "output_type": "stream",
          "name": "stdout",
          "text": [
            "Your age is 21\n"
          ]
        }
      ],
      "source": [
        "def ageCalculator(y,m,d):\n",
        "    import datetime\n",
        "    today = datetime.datetime.now().date()\n",
        "    dob = datetime.date(y,m,d)\n",
        "    age = int((today-dob).days/365.25)\n",
        "    print(\"Your age is\",age)\n",
        "ageCalculator(2003,1,10)"
      ]
    }
  ]
}