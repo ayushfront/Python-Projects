{
  "nbformat": 4,
  "nbformat_minor": 0,
  "metadata": {
    "colab": {
      "provenance": []
    },
    "kernelspec": {
      "name": "python3",
      "display_name": "Python 3"
    },
    "language_info": {
      "name": "python"
    }
  },
  "cells": [
    {
      "cell_type": "markdown",
      "source": [
        "# **Rock Paper Scissors Game using Python**"
      ],
      "metadata": {
        "id": "45Pbu2dC0B3e"
      }
    },
    {
      "cell_type": "markdown",
      "source": [
        "Rock Paper Scissors is a hand game usually played between two people. In this game, scissors can beat paper, paper can beat rock, and rock can beat scissors. If you want to learn how to create a rock paper scissors game with Python, this article is for you. In this article, I will take you through a tutorial on creating a rock paper scissors game using Python."
      ],
      "metadata": {
        "id": "lS1o8wCa0CCS"
      }
    },
    {
      "cell_type": "markdown",
      "source": [
        "# **Rock Paper Scissors Game using Python**"
      ],
      "metadata": {
        "id": "xJHzW8pF0CFL"
      }
    },
    {
      "cell_type": "markdown",
      "source": [
        "\n",
        "To create and play rock paper scissors, I will be using the if and elif statements in Python. I will prepare this game to be played between two players. Player-1 will be the user, and player-2 will be the computer. Player one will manually select the rock paper or scissor, while player two will choose randomly. So I will also use the random module in Python to create this game.\n",
        "\n",
        "I hope you now have understood everything about the rock, paper, and scissors game and how I will create it. Now, below is how we can write a Python script to create and play rock paper scissors using Python:"
      ],
      "metadata": {
        "id": "A5ARioXy0CIo"
      }
    },
    {
      "cell_type": "code",
      "source": [
        "import random\n",
        "\n",
        "player1 = input(\"SELECT ROCK , PAPER, OR SCISSORS: \").lower()\n",
        "player2 = random.choice(['ROCK', 'PAPER', 'SCISSORS']).lower()\n",
        "print(\"player 2 selected : \", player2)\n",
        "\n",
        "if player1 == \"rock\" and player2 == \"paper\":\n",
        "  print(\"player 2 won \")\n",
        "elif player1== \"paper\" and player2 == \"scissor\":\n",
        "  print(\"player 2 won\")\n",
        "elif player1 == \"scissor\" and player2 == \"rock\":\n",
        "  print(\"player 2 won\")\n",
        "elif player1 == player2:\n",
        "  print(\"its a tie\")\n",
        "else:\n",
        "  print(\"player 1 won\")"
      ],
      "metadata": {
        "colab": {
          "base_uri": "https://localhost:8080/"
        },
        "id": "_XbJeK3y0zBc",
        "outputId": "33080086-09f0-4b79-eed4-c0c073668890"
      },
      "execution_count": 5,
      "outputs": [
        {
          "output_type": "stream",
          "name": "stdout",
          "text": [
            "SELECT ROCK , PAPER, OR SCISSORS: rock\n",
            "player 2 selected :  rock\n",
            "its a tie\n"
          ]
        }
      ]
    }
  ]
}