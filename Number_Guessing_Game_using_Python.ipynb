{
  "nbformat": 4,
  "nbformat_minor": 0,
  "metadata": {
    "colab": {
      "provenance": []
    },
    "kernelspec": {
      "name": "python3",
      "display_name": "Python 3"
    },
    "language_info": {
      "name": "python"
    }
  },
  "cells": [
    {
      "cell_type": "markdown",
      "source": [
        "# Number Guessing Game using Python"
      ],
      "metadata": {
        "id": "gK6tOdm9qgBH"
      }
    },
    {
      "cell_type": "markdown",
      "source": [
        "The number guessing game is a popular game among programmers. In the number guessing game, the program selects a random number between two numbers, and the user guesses the correct number. If you want to learn how to create a guessing game using Python, this article is for you. In this article, I will take you through a tutorial on creating a number guessing game using the Python programming language."
      ],
      "metadata": {
        "id": "uR6FrFYTqiFj"
      }
    },
    {
      "cell_type": "markdown",
      "source": [
        "# **Number Guessing Game using Python**\n",
        "To create a guessing game, we need to write a program to select a random number between 1 and 10. To give hints to the user, we can use conditional statements to tell the user if the guessed number is smaller, greater than or equal to the randomly selected number.\n",
        "\n",
        "So below is how you can write a program to create a number guessing game using Python:\n",
        "\n",
        "1\n",
        "import random"
      ],
      "metadata": {
        "id": "jLsymRRUqkkw"
      }
    },
    {
      "cell_type": "code",
      "execution_count": 6,
      "metadata": {
        "colab": {
          "base_uri": "https://localhost:8080/"
        },
        "id": "dLNBQHpWo2d4",
        "outputId": "1a2b4b17-bf82-4662-d3b3-97201c40a73e"
      },
      "outputs": [
        {
          "output_type": "stream",
          "name": "stdout",
          "text": [
            "enter any number:2\n",
            "Too Low\n",
            "enter agin a number:6\n",
            "Too Low\n",
            "enter agin a number:50\n",
            "Too High\n",
            "enter again a number:20\n",
            "Too Low\n",
            "enter agin a number:45\n",
            "Too High\n",
            "enter again a number:40\n",
            "Too High\n",
            "enter again a number:30\n",
            "Too High\n",
            "enter again a number:23\n",
            "Too Low\n",
            "enter agin a number:25\n",
            "you win\n"
          ]
        }
      ],
      "source": [
        "import random\n",
        "n = random.randrange(100)\n",
        "guess = int(input(\"enter any number:\"))\n",
        "while n!= guess:\n",
        "  if guess < n:\n",
        "    print(\"Too Low\")\n",
        "    guess = int(input(\"enter agin a number:\"))\n",
        "  elif guess > n :\n",
        "    print(\"Too High\")\n",
        "    guess = int(input(\"enter again a number:\"))\n",
        "  else:\n",
        "    break\n",
        "print(\"you win\")"
      ]
    }
  ]
}