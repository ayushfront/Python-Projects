{
  "nbformat": 4,
  "nbformat_minor": 0,
  "metadata": {
    "colab": {
      "provenance": []
    },
    "kernelspec": {
      "name": "python3",
      "display_name": "Python 3"
    },
    "language_info": {
      "name": "python"
    }
  },
  "cells": [
    {
      "cell_type": "markdown",
      "source": [
        "# Send Automatic Emails using **Python**"
      ],
      "metadata": {
        "id": "L9UjmSb6xivN"
      }
    },
    {
      "cell_type": "markdown",
      "source": [
        "Every time you register on a new app, you automatically receive a welcome message with your name on it. If you want to learn how to send such emails automatically, then this article is for you. In this article, I will walk you through how to send automatic emails using Python."
      ],
      "metadata": {
        "id": "4Kirk6MaxmLH"
      }
    },
    {
      "cell_type": "markdown",
      "source": [
        "# How to Send Automatic Emails using Python?"
      ],
      "metadata": {
        "id": "Ex5nUdD4xn23"
      }
    },
    {
      "cell_type": "markdown",
      "source": [
        "To send automatic emails using Python, you must first understand how to send an email using the Python programming language. Once you know how to send an email using Python, the next thing you need to figure out is what you want to send automatically. For example, many companies send OTP or welcome messages, while some companies even send newsletters to newly registered users.\n",
        "\n",
        "So in the section below, I will take you through how to send automatic emails using Python. I will automatically send a welcome message to the newly registered user. For this task, you must first generate a google app password for your Gmail account. If you don’t know how to generate it, you can learn more from the video below."
      ],
      "metadata": {
        "id": "4Y9PcNcFxsTK"
      }
    },
    {
      "cell_type": "markdown",
      "source": [
        "# **Send Automatic Emails using Python**"
      ],
      "metadata": {
        "id": "7OqP2pjZxu5Q"
      }
    },
    {
      "cell_type": "markdown",
      "source": [
        "It is very important to generate a Google app password for your Gmail account, as you will be sending automatic emails using Python through your Gmail account. Once you’ve generated your Google app password, here’s how you can start the task of sending emails using Python:\n",
        "\n",
        "\n",
        "\n"
      ],
      "metadata": {
        "id": "4fK9YQJ5xw6s"
      }
    },
    {
      "cell_type": "code",
      "source": [
        "import os\n",
        "import random\n",
        "import smtplib\n",
        "\n",
        "\n",
        "def automatic_email():\n",
        "  user = input(\"enter your name >>\")\n",
        "  email = input(\"enter your email >>\")\n",
        "  message = (f\"Dear{user}, Welcome to ThecleverProgram\")\n",
        "  s = smtplib.SMTP('smtp.gmail.com',587)\n",
        "  s.starttls()\n",
        "  s.login(\"Your Gmail Account\", \"Your App Password\")\n",
        "  s.sendmail('&&&&&&&&&&&', email, message)\n",
        "  print(\"email sent\")\n",
        "\n",
        "automatic_email()"
      ],
      "metadata": {
        "id": "1RywnUeuwZj4"
      },
      "execution_count": null,
      "outputs": []
    }
  ]
}