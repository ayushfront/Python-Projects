{
  "nbformat": 4,
  "nbformat_minor": 0,
  "metadata": {
    "colab": {
      "provenance": []
    },
    "kernelspec": {
      "name": "python3",
      "display_name": "Python 3"
    },
    "language_info": {
      "name": "python"
    }
  },
  "cells": [
    {
      "cell_type": "markdown",
      "source": [
        "# **Mean Median and Mode using Python**"
      ],
      "metadata": {
        "id": "cpXuOwygsg_G"
      }
    },
    {
      "cell_type": "markdown",
      "source": [
        "Mean, Median and Mode are the fundamentals of statistics used in almost every domain where we deal with numbers. Python is one of the best programming languages for numerical calculations. So you should know how to calculate mean, median and mode using Python without using any built-in Python library or module. So in this article, I will take you through how to calculate mean, median, and mode using Python."
      ],
      "metadata": {
        "id": "LGO7YuMMsj5Y"
      }
    },
    {
      "cell_type": "markdown",
      "source": [
        "# **Mean**\n",
        "The mean is the average value of all the values in a dataset. To calculate the mean value of a dataset, we first need to find the sum of all the values and then divide the sum of all the values by the total number of values. So here’s how to calculate the mean using Python:"
      ],
      "metadata": {
        "id": "HcUzUCKIsmFr"
      }
    },
    {
      "cell_type": "code",
      "execution_count": 2,
      "metadata": {
        "colab": {
          "base_uri": "https://localhost:8080/"
        },
        "id": "sHpX9eawqx53",
        "outputId": "17a6c56d-2d98-4d07-8015-c9fb5d1022b9"
      },
      "outputs": [
        {
          "output_type": "stream",
          "name": "stdout",
          "text": [
            "20.2\n"
          ]
        }
      ],
      "source": [
        "#mean\n",
        "list1= [12, 16, 20, 20, 12, 30, 25, 23, 24, 20]\n",
        "mean = sum(list1)/len(list1)\n",
        "print(mean)"
      ]
    },
    {
      "cell_type": "markdown",
      "source": [
        "# **Median**\n",
        "The Median is the middle value among all the values in sorted order. Here we need to calculate the mid-value of all the values in a dataset. But before calculating the Median, we need to arrange all the values in sorted order. There are two different ways of calculating the median value:\n",
        "\n",
        "1. when the total number of values is even: Median  = [(n/2)th term + {(n/2)+1}th]/2\n",
        "2. when the total number of values is odd: Median = {(n+1)/2}thterm\n",
        "\n",
        "Now below is how you can calculate the median using Python:\n",
        "\n"
      ],
      "metadata": {
        "id": "X_P-kDdrsrK3"
      }
    },
    {
      "cell_type": "code",
      "source": [
        "#median\n",
        "list1 = [12, 16, 20, 20, 12, 30, 25, 23, 24, 20]\n",
        "list1.sort()\n",
        "\n",
        "if len(list1) % 2 == 0:\n",
        "    median1 = list1[len(list1)//2]\n",
        "    median2 = list1[len(list1)//2 - 1]\n",
        "    median = (median1 + median2)/2\n",
        "    print(median)\n",
        "else:\n",
        "    median = list1[len(list1)//2]\n",
        "    print(median)"
      ],
      "metadata": {
        "colab": {
          "base_uri": "https://localhost:8080/"
        },
        "id": "qyGyECFurTeO",
        "outputId": "7ae037be-077a-42eb-9457-a7079a47a9c2"
      },
      "execution_count": 4,
      "outputs": [
        {
          "output_type": "stream",
          "name": "stdout",
          "text": [
            "20.0\n"
          ]
        }
      ]
    },
    {
      "cell_type": "markdown",
      "source": [
        "# **Mode**\n",
        "Mode is the most frequently occurring value among all the values. Below is how we can calculate the mode value of a dataset using Python:"
      ],
      "metadata": {
        "id": "OpN0vORfs0L6"
      }
    },
    {
      "cell_type": "code",
      "source": [
        "\n",
        "#mode\n",
        "list= [12, 16, 20, 20, 12, 30, 25, 23, 24, 20]\n",
        "frequency = {}\n",
        "for i in list:\n",
        "    frequency.setdefault(i,0)\n",
        "    frequency[i] += 1\n",
        "\n",
        "frequent =max(frequency.values())\n",
        "for i, j in frequency.items():\n",
        "    if j == frequent:\n",
        "        mode = i\n",
        "print(mode)"
      ],
      "metadata": {
        "colab": {
          "base_uri": "https://localhost:8080/"
        },
        "id": "LQSQF56mri5Y",
        "outputId": "cbcbc062-595e-483d-f243-3049b98664b0"
      },
      "execution_count": 8,
      "outputs": [
        {
          "output_type": "stream",
          "name": "stdout",
          "text": [
            "20\n"
          ]
        }
      ]
    }
  ]
}