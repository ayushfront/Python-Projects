{
  "nbformat": 4,
  "nbformat_minor": 0,
  "metadata": {
    "colab": {
      "provenance": []
    },
    "kernelspec": {
      "name": "python3",
      "display_name": "Python 3"
    },
    "language_info": {
      "name": "python"
    }
  },
  "cells": [
    {
      "cell_type": "markdown",
      "source": [
        "\n",
        "# **Password Authentication using Python**\n",
        "\n",
        "\n"
      ],
      "metadata": {
        "id": "LXnYo9Bju5lA"
      }
    },
    {
      "cell_type": "markdown",
      "source": [
        "Password Authentication is the process of checking the identity of a user. Almost every online platform today makes sure that they only give access to the real user which can be only possible by asking for a password while a user wants to log in to the account. So in this article, I will take you through the task of password authentication using Python."
      ],
      "metadata": {
        "id": "nMAf6aHwu9yj"
      }
    },
    {
      "cell_type": "markdown",
      "source": [
        "# **What is a Password Authentication System?**"
      ],
      "metadata": {
        "id": "IFw0s7IPvAaV"
      }
    },
    {
      "cell_type": "markdown",
      "source": [
        "A password authentication system is a system that is used for the identification of a user. Think of it like a login screen that you see while logging in to your Facebook account. It asks for your email or a username and then it asks for your password. If you have entered the correct password then it verifies you as the real user.\n",
        "\n",
        "Creating a logic-based password authentication system is also a popular question in the coding interviews. So, in the section below, I will take you through how to create a password authentication system using Python."
      ],
      "metadata": {
        "id": "kRggnGE-vB_z"
      }
    },
    {
      "cell_type": "markdown",
      "source": [
        "# **Password Authentication using Python**"
      ],
      "metadata": {
        "id": "u6F6ObjfvEPS"
      }
    },
    {
      "cell_type": "markdown",
      "source": [
        "**To create a password authentication system using Python you have to follow the steps mentioned below:**"
      ],
      "metadata": {
        "id": "eWdiudi3vHZ5"
      }
    },
    {
      "cell_type": "markdown",
      "source": [
        "1. Create a dictionary of usernames with their passwords.\n",
        "\n",
        "2. Then you have to ask for user input as the username by using the input function in Python.\n",
        "\n",
        "3. Then you have to use the getpass module in Python to ask for user input as the password. Here we are using the getpass module instead of the input function to make sure that the user doesn’t get to see what he/she write in the password field."
      ],
      "metadata": {
        "id": "_crb0J7cvIYn"
      }
    },
    {
      "cell_type": "markdown",
      "source": [
        "So let’s follow the steps mentioned above to create a password authentication system using Python:"
      ],
      "metadata": {
        "id": "lzsmIJvdvSX7"
      }
    },
    {
      "cell_type": "code",
      "execution_count": 3,
      "metadata": {
        "colab": {
          "base_uri": "https://localhost:8080/"
        },
        "id": "yd5PDxC6tAiZ",
        "outputId": "50000ede-ae58-43b8-81d9-6e2f68869ffc"
      },
      "outputs": [
        {
          "output_type": "stream",
          "name": "stdout",
          "text": [
            "enter your user name :ayush.pa\n",
            "enter your password :··········\n",
            "verified\n"
          ]
        }
      ],
      "source": [
        "import getpass\n",
        "database = {\"ayush.pal\":\"445402\",\"ayushpal08\":\"1234567890\"}\n",
        "username = input(\"enter your user name :\")\n",
        "password = getpass.getpass(\"enter your password :\")\n",
        "for i in database.keys():\n",
        "   if username ==i:\n",
        "    while password != database.get(i):\n",
        "      password = getpass.getpass(\"enter your password again :\")\n",
        "      break\n",
        "print(\"verified\")"
      ]
    }
  ]
}